{
  "cells": [
    {
      "cell_type": "markdown",
      "id": "2146e792",
      "metadata": {
        "id": "2146e792"
      },
      "source": [
        "Please Fill in your name below:"
      ]
    },
    {
      "cell_type": "code",
      "execution_count": null,
      "id": "4ac44754",
      "metadata": {
        "id": "4ac44754"
      },
      "outputs": [],
      "source": [
        "NAME = \"Mohammed Ali Ali\""
      ]
    },
    {
      "cell_type": "markdown",
      "id": "649cd435",
      "metadata": {
        "id": "649cd435"
      },
      "source": [
        "---"
      ]
    },
    {
      "cell_type": "markdown",
      "id": "b21da1c8-ca89-44d6-bd9d-023d73c39d9e",
      "metadata": {
        "deletable": false,
        "editable": false,
        "id": "b21da1c8-ca89-44d6-bd9d-023d73c39d9e",
        "nbgrader": {
          "cell_type": "markdown",
          "checksum": "72dbf0cead3ea67b3675e3633748c4e6",
          "grade": false,
          "grade_id": "cell-86e878fd0d037967",
          "locked": true,
          "schema_version": 3,
          "solution": false,
          "task": false
        },
        "tags": []
      },
      "source": [
        "# Deep Learning\n",
        "# Assignment 3: Convolutional Neural Networks"
      ]
    },
    {
      "cell_type": "markdown",
      "id": "b3b1cb2b-69a3-41da-ac36-91f8c183e1c6",
      "metadata": {
        "deletable": false,
        "editable": false,
        "id": "b3b1cb2b-69a3-41da-ac36-91f8c183e1c6",
        "nbgrader": {
          "cell_type": "markdown",
          "checksum": "0923049ad2462972be158ddf97bfd393",
          "grade": false,
          "grade_id": "cell-51ad34e61201e77a",
          "locked": true,
          "schema_version": 3,
          "solution": false,
          "task": false
        },
        "tags": []
      },
      "source": [
        "**Please follow the following instructions for your answers to be graded correctly**:\n",
        "- Inside the functions, make sure to write your code between the comments \"# YOUR CODE STARTS HERE \" and \"# YOUR CODE ENDS HERE \". **Do not** edit any code outside these comments inside the functions.\n",
        "- You're allowed to edit the cells that don't contain function definition.\n",
        "- You will encounter some locked (read-only) empty cells. Leave those as they are, you're not allowed to edit them.\n",
        "- Before you submit your assignment, make sure everything runs as expected. First, **restart the kernel** (in the menubar, select Kernel$\\rightarrow$Restart) and then **run all cells** (in the menubar, select Cell$\\rightarrow$Run All)."
      ]
    },
    {
      "cell_type": "markdown",
      "id": "534054f2-1790-44a0-85b0-1d66e4662d94",
      "metadata": {
        "deletable": false,
        "editable": false,
        "id": "534054f2-1790-44a0-85b0-1d66e4662d94",
        "nbgrader": {
          "cell_type": "markdown",
          "checksum": "c002ff13321f3416e4e5c1b31d40f3e4",
          "grade": false,
          "grade_id": "cell-7440dcca95306428",
          "locked": true,
          "schema_version": 3,
          "solution": false,
          "task": false
        },
        "tags": []
      },
      "source": [
        "## Part 1: CNN"
      ]
    },
    {
      "cell_type": "code",
      "execution_count": null,
      "id": "f85abeae-e71b-4d62-8ee4-ff09afd5d2a6",
      "metadata": {
        "id": "f85abeae-e71b-4d62-8ee4-ff09afd5d2a6"
      },
      "outputs": [],
      "source": [
        "import numpy\n",
        "from tensorflow.keras.datasets import cifar10\n",
        "from tensorflow.keras.models import Sequential\n",
        "from tensorflow.keras.layers import Dense\n",
        "from tensorflow.keras.layers import Dropout\n",
        "from tensorflow.keras.layers import Flatten\n",
        "from tensorflow.keras.optimizers import SGD\n",
        "from tensorflow.keras.layers import Conv2D\n",
        "from tensorflow.keras.layers import MaxPooling2D\n",
        "from tensorflow.keras import utils\n",
        "import matplotlib.pyplot as plt"
      ]
    },
    {
      "cell_type": "markdown",
      "id": "8172ee72-f58e-4e38-8129-dd18200a1a3a",
      "metadata": {
        "deletable": false,
        "editable": false,
        "id": "8172ee72-f58e-4e38-8129-dd18200a1a3a",
        "nbgrader": {
          "cell_type": "markdown",
          "checksum": "873682d7019408f3860caeb4812e5ee2",
          "grade": false,
          "grade_id": "cell-53dc2c9910c7a6c1",
          "locked": true,
          "schema_version": 3,
          "solution": false,
          "task": false
        },
        "tags": []
      },
      "source": [
        "### Data loading and preprocessing"
      ]
    },
    {
      "cell_type": "code",
      "execution_count": null,
      "id": "b489c33e-d917-4fe1-9c93-4188a851b38a",
      "metadata": {
        "deletable": false,
        "id": "b489c33e-d917-4fe1-9c93-4188a851b38a",
        "nbgrader": {
          "cell_type": "code",
          "checksum": "e6117f890699bd242b7fefe49ac836ae",
          "grade": true,
          "grade_id": "cell-837443ed445552ec",
          "locked": false,
          "points": 3,
          "schema_version": 3,
          "solution": true,
          "task": false
        },
        "tags": []
      },
      "outputs": [],
      "source": [
        "def load_cifar():\n",
        "    '''\n",
        "    Returns:\n",
        "    X_train, y_train, X_test, y_test --> images should be normalized to the range 0-1. Labels should be one-hot encoded.\n",
        "    '''\n",
        "\n",
        "    # YOUR CODE STARTS HERE\n",
        "    X\n",
        "    # YOUR CODE ENDS HERE\n",
        "\n",
        "    return X_train, y_train, X_test, y_test"
      ]
    },
    {
      "cell_type": "markdown",
      "id": "8ec2ef8e-6f8e-4a3d-834c-351b976c9764",
      "metadata": {
        "deletable": false,
        "editable": false,
        "id": "8ec2ef8e-6f8e-4a3d-834c-351b976c9764",
        "nbgrader": {
          "cell_type": "markdown",
          "checksum": "fb37afb2f90d93f9aa15f474451cf066",
          "grade": false,
          "grade_id": "cell-b9614c27b5872d2e",
          "locked": true,
          "schema_version": 3,
          "solution": false,
          "task": false
        },
        "tags": []
      },
      "source": [
        "### CNN model"
      ]
    },
    {
      "cell_type": "code",
      "execution_count": null,
      "id": "d254da2a-b58d-4634-8bff-c2637f2ec623",
      "metadata": {
        "deletable": false,
        "id": "d254da2a-b58d-4634-8bff-c2637f2ec623",
        "nbgrader": {
          "cell_type": "code",
          "checksum": "6c1f04a96dc5531d7bd3acf416d8dd94",
          "grade": true,
          "grade_id": "cell-17e6e6c78dd20e52",
          "locked": false,
          "points": 3,
          "schema_version": 3,
          "solution": true,
          "task": false
        },
        "tags": []
      },
      "outputs": [],
      "source": [
        "def CNN (learning_rate):\n",
        "    '''\n",
        "    Implement a 3 layer CNN with filter size 3x3, where num of filters 32, 64 and 128 added to the first, second and third layer respectively.\n",
        "    Add a maxpool layer with pooling size (2,2) after each convolutional layer.\n",
        "    The CNN is followed by a two dense layers where the num of nodes are 128 and 10 in the first and second dense layers (Use softmax at the last layer).\n",
        "    Use SGD optimization function where the loss function is employing the categorical cross entropy to classify the images.\n",
        "\n",
        "    Arguments:\n",
        "    learning_rate\n",
        "\n",
        "    Returns:\n",
        "    model: the compiled cnn model\n",
        "    '''\n",
        "\n",
        "    # YOUR CODE STARTS HERE\n",
        "    m\n",
        "    # YOUR CODE ENDS HERE\n",
        "\n",
        "    return model"
      ]
    },
    {
      "cell_type": "code",
      "execution_count": null,
      "id": "e17371b8-e806-472b-bf3f-a3c803f55f5c",
      "metadata": {
        "deletable": false,
        "id": "e17371b8-e806-472b-bf3f-a3c803f55f5c",
        "nbgrader": {
          "cell_type": "code",
          "checksum": "b6361c755093f44ab09d142ca55d712e",
          "grade": true,
          "grade_id": "cell-039633a02d4dc033",
          "locked": false,
          "points": 3,
          "schema_version": 3,
          "solution": true,
          "task": false
        },
        "tags": []
      },
      "outputs": [],
      "source": [
        "# Fit your CNN model using test data as your validation data during training.\n",
        "# Plot the training accuracy and validation accuracy (add legend to the plot)\n",
        "\n",
        "# YOUR CODE STARTS HERE\n",
        "\n",
        "# YOUR CODE ENDS HERE"
      ]
    },
    {
      "cell_type": "markdown",
      "id": "06eef845-30f0-4b71-9b96-04a9457eda1d",
      "metadata": {
        "deletable": false,
        "editable": false,
        "id": "06eef845-30f0-4b71-9b96-04a9457eda1d",
        "nbgrader": {
          "cell_type": "markdown",
          "checksum": "d17f9c6d6879d27e591de8a074918c2f",
          "grade": false,
          "grade_id": "cell-d974bd82fb448078",
          "locked": true,
          "schema_version": 3,
          "solution": false,
          "task": false
        },
        "tags": []
      },
      "source": [
        "### DNN model"
      ]
    },
    {
      "cell_type": "code",
      "execution_count": null,
      "id": "b67b6a0f-9a57-4705-b39c-dc22193e94d0",
      "metadata": {
        "deletable": false,
        "id": "b67b6a0f-9a57-4705-b39c-dc22193e94d0",
        "nbgrader": {
          "cell_type": "code",
          "checksum": "3dd5324151e31219ad45da5f609f2731",
          "grade": true,
          "grade_id": "cell-4b6808b3d199bed1",
          "locked": false,
          "points": 3,
          "schema_version": 3,
          "solution": true,
          "task": false
        },
        "tags": []
      },
      "outputs": [],
      "source": [
        "def DNN(learning_rate):\n",
        "    '''\n",
        "    Implement a simple dense neural networks with 5 hidden layers of 512 rectified linear units each. Add a final output layer with softmax activation.\n",
        "\n",
        "    Arguments:\n",
        "    learning_rate\n",
        "\n",
        "    Returns:\n",
        "    model: the compiled model\n",
        "    '''\n",
        "\n",
        "    # YOUR CODE STARTS HERE\n",
        "\n",
        "    # YOUR CODE ENDS HERE\n",
        "\n",
        "    return model"
      ]
    },
    {
      "cell_type": "code",
      "execution_count": null,
      "id": "cf32de6e-c5eb-4bae-b714-6d60b1529f64",
      "metadata": {
        "deletable": false,
        "id": "cf32de6e-c5eb-4bae-b714-6d60b1529f64",
        "nbgrader": {
          "cell_type": "code",
          "checksum": "3923f46c09748f82b72e99d7a92d6ec5",
          "grade": true,
          "grade_id": "cell-77281af07cf599a0",
          "locked": false,
          "points": 3,
          "schema_version": 3,
          "solution": true,
          "task": false
        },
        "tags": []
      },
      "outputs": [],
      "source": [
        "# Fit your DNN model using test data as your validation data during training.\n",
        "# Plot the training accuracy and validation accuracy (add legend to the plot)\n",
        "\n",
        "# YOUR CODE STARTS HERE\n",
        "\n",
        "# YOUR CODE ENDS HERE"
      ]
    },
    {
      "cell_type": "markdown",
      "id": "d263b360-acb1-4b53-bc57-f5795243318d",
      "metadata": {
        "deletable": false,
        "editable": false,
        "id": "d263b360-acb1-4b53-bc57-f5795243318d",
        "nbgrader": {
          "cell_type": "markdown",
          "checksum": "894317a9254dcdd6c79d7b548a7fb012",
          "grade": false,
          "grade_id": "cell-9acfdb5c91ebed35",
          "locked": true,
          "points": 3,
          "schema_version": 3,
          "solution": false,
          "task": true
        },
        "tags": []
      },
      "source": [
        "### Question: Compare between both CNN and DNN models in terms of the training curves and number of parameters."
      ]
    },
    {
      "cell_type": "markdown",
      "id": "652311de-4ab4-40e5-8e74-dfbd0ef44437",
      "metadata": {
        "deletable": false,
        "id": "652311de-4ab4-40e5-8e74-dfbd0ef44437",
        "nbgrader": {
          "cell_type": "markdown",
          "checksum": "7e7cb74de3e7c15b4e5aa1b0f6952587",
          "grade": true,
          "grade_id": "cell-3297d255c84206d3",
          "locked": false,
          "points": 0,
          "schema_version": 3,
          "solution": true,
          "task": false
        },
        "tags": []
      },
      "source": [
        "YOUR ANSWER HERE"
      ]
    },
    {
      "cell_type": "markdown",
      "id": "1a8965c2-4fa5-41f8-8b1e-a304c49209b4",
      "metadata": {
        "deletable": false,
        "editable": false,
        "id": "1a8965c2-4fa5-41f8-8b1e-a304c49209b4",
        "nbgrader": {
          "cell_type": "markdown",
          "checksum": "038deb7d89c347ac237e63dd61d93c31",
          "grade": false,
          "grade_id": "cell-d27e8e71ab607683",
          "locked": true,
          "schema_version": 3,
          "solution": false,
          "task": false
        },
        "tags": []
      },
      "source": [
        "### Dropout"
      ]
    },
    {
      "cell_type": "code",
      "execution_count": null,
      "id": "1309d65b-e9a6-4431-8a79-c1b507b30737",
      "metadata": {
        "deletable": false,
        "id": "1309d65b-e9a6-4431-8a79-c1b507b30737",
        "nbgrader": {
          "cell_type": "code",
          "checksum": "d4d7a445e6332978785e2ba713fb9dea",
          "grade": true,
          "grade_id": "cell-b671f93217c50ee3",
          "locked": false,
          "points": 3,
          "schema_version": 3,
          "solution": true,
          "task": false
        },
        "tags": []
      },
      "outputs": [],
      "source": [
        "def CNN_dropout(dropout_rate, learning_rate):\n",
        "    '''\n",
        "    Implement the same previous CNN architecture with adding dropout layers.\n",
        "\n",
        "    Arguments:\n",
        "    - dropout_rate\n",
        "    - learning_rate\n",
        "\n",
        "    returns:\n",
        "    model: the compiled model\n",
        "    '''\n",
        "    # YOUR CODE STARTS HERE\n",
        "\n",
        "    # YOUR CODE ENDS HERE\n",
        "\n",
        "    return model"
      ]
    },
    {
      "cell_type": "code",
      "execution_count": null,
      "id": "5edea139-a2db-4de0-8553-8dec7f0a810d",
      "metadata": {
        "deletable": false,
        "id": "5edea139-a2db-4de0-8553-8dec7f0a810d",
        "nbgrader": {
          "cell_type": "code",
          "checksum": "73ac24a4348f7cfbdab8abbc25d1673a",
          "grade": true,
          "grade_id": "cell-7a1d865a414540b3",
          "locked": false,
          "points": 3,
          "schema_version": 3,
          "solution": true,
          "task": false
        },
        "tags": []
      },
      "outputs": [],
      "source": [
        "# Fit your modified CNN model (CNN with dropout) using test data as your validation data during training.\n",
        "# Plot the training accuracy and validation accuracy (add legend to the plot)\n",
        "\n",
        "\n",
        "# YOUR CODE STARTS HERE\n",
        "\n",
        "# YOUR CODE ENDS HERE"
      ]
    },
    {
      "cell_type": "code",
      "execution_count": null,
      "id": "c892dae7-6c87-4383-b051-e8da00ec4946",
      "metadata": {
        "deletable": false,
        "id": "c892dae7-6c87-4383-b051-e8da00ec4946",
        "nbgrader": {
          "cell_type": "code",
          "checksum": "0bcf8637e180de2965cb6fad8c3fde28",
          "grade": true,
          "grade_id": "cell-963145ef2955ce4a",
          "locked": false,
          "points": 3,
          "schema_version": 3,
          "solution": true,
          "task": false
        },
        "tags": []
      },
      "outputs": [],
      "source": [
        "# Repeat using a different dropout rate\n",
        "\n",
        "# YOUR CODE STARTS HERE\n",
        "\n",
        "# YOUR CODE ENDS HERE"
      ]
    },
    {
      "cell_type": "markdown",
      "id": "bb354a3b-a66c-4312-ac04-39f8e3a34c1e",
      "metadata": {
        "deletable": false,
        "editable": false,
        "id": "bb354a3b-a66c-4312-ac04-39f8e3a34c1e",
        "nbgrader": {
          "cell_type": "markdown",
          "checksum": "54c9675eb87d957c3dc0a782c2141815",
          "grade": false,
          "grade_id": "cell-cb541ea1559d8463",
          "locked": true,
          "points": 3,
          "schema_version": 3,
          "solution": false,
          "task": true
        },
        "tags": []
      },
      "source": [
        "### Comment on the results using different dropout rates and compare with the previous models."
      ]
    },
    {
      "cell_type": "markdown",
      "id": "947bbbd7-0f65-484f-a382-5bb0fb6950d0",
      "metadata": {
        "deletable": false,
        "id": "947bbbd7-0f65-484f-a382-5bb0fb6950d0",
        "nbgrader": {
          "cell_type": "markdown",
          "checksum": "d8d9df80e76a2ac95756f90112f4704a",
          "grade": true,
          "grade_id": "cell-4cad7c64868a0969",
          "locked": false,
          "points": 0,
          "schema_version": 3,
          "solution": true,
          "task": false
        },
        "tags": []
      },
      "source": [
        "YOUR ANSWER HERE"
      ]
    },
    {
      "cell_type": "markdown",
      "id": "a13a0fb8-5f31-494d-9179-e225d4cfdec8",
      "metadata": {
        "deletable": false,
        "editable": false,
        "id": "a13a0fb8-5f31-494d-9179-e225d4cfdec8",
        "nbgrader": {
          "cell_type": "markdown",
          "checksum": "9ab8b1d192c8eb118fadaebebbf8aeb0",
          "grade": false,
          "grade_id": "cell-818e87ad64a3fc93",
          "locked": true,
          "schema_version": 3,
          "solution": false,
          "task": false
        },
        "tags": []
      },
      "source": [
        "## Part 2: UNet"
      ]
    },
    {
      "cell_type": "markdown",
      "id": "34670a46-dca5-4123-953a-cd35d7238afd",
      "metadata": {
        "deletable": false,
        "editable": false,
        "id": "34670a46-dca5-4123-953a-cd35d7238afd",
        "nbgrader": {
          "cell_type": "markdown",
          "checksum": "20a8ab0b421c1e3b1a345036c392dbed",
          "grade": false,
          "grade_id": "cell-e0c641797127c722",
          "locked": true,
          "schema_version": 3,
          "solution": false,
          "task": false
        },
        "tags": []
      },
      "source": [
        "You'll be building your own U-Net."
      ]
    },
    {
      "cell_type": "markdown",
      "id": "35e89c0e-c7b8-4ca4-9141-519d4783fdb9",
      "metadata": {
        "deletable": false,
        "editable": false,
        "id": "35e89c0e-c7b8-4ca4-9141-519d4783fdb9",
        "nbgrader": {
          "cell_type": "markdown",
          "checksum": "de0ca5894d995658c5ada75306a2f258",
          "grade": false,
          "grade_id": "cell-e1b99a52319d5fef",
          "locked": true,
          "schema_version": 3,
          "solution": false,
          "task": false
        },
        "tags": []
      },
      "source": [
        "### 1 - Packages\n",
        "\n",
        "Run the cell below to import all the libraries you'll need:"
      ]
    },
    {
      "cell_type": "code",
      "execution_count": null,
      "id": "2af3b485-aa72-4663-9575-08514995c648",
      "metadata": {
        "id": "2af3b485-aa72-4663-9575-08514995c648",
        "tags": []
      },
      "outputs": [],
      "source": [
        "import tensorflow as tf\n",
        "import numpy as np\n",
        "\n",
        "from tensorflow.keras.layers import Input\n",
        "from tensorflow.keras.layers import Conv2D\n",
        "from tensorflow.keras.layers import MaxPooling2D\n",
        "from tensorflow.keras.layers import Dropout\n",
        "from tensorflow.keras.layers import Conv2DTranspose\n",
        "from tensorflow.keras.layers import concatenate"
      ]
    },
    {
      "cell_type": "markdown",
      "id": "18b96b8c-630e-4c8c-a6ed-a1090f370104",
      "metadata": {
        "deletable": false,
        "editable": false,
        "id": "18b96b8c-630e-4c8c-a6ed-a1090f370104",
        "nbgrader": {
          "cell_type": "markdown",
          "checksum": "bed9d17d89bed3b841f117b64d3fade4",
          "grade": false,
          "grade_id": "cell-88bc3be577d1ef08",
          "locked": true,
          "schema_version": 3,
          "solution": false,
          "task": false
        },
        "tags": []
      },
      "source": [
        "### 2 - Load and Split the Data"
      ]
    },
    {
      "cell_type": "markdown",
      "id": "d703ef6e-7c3b-4ed1-8dfc-fc54577d3a7b",
      "metadata": {
        "deletable": false,
        "editable": false,
        "id": "d703ef6e-7c3b-4ed1-8dfc-fc54577d3a7b",
        "nbgrader": {
          "cell_type": "markdown",
          "checksum": "3cb0ff84d9b8437a27550fa31c707958",
          "grade": false,
          "grade_id": "cell-776a034f79755b85",
          "locked": true,
          "schema_version": 3,
          "solution": false,
          "task": false
        },
        "tags": []
      },
      "source": [
        "- Download the data from Lyft Semantic Segmentation Challenge from Kaggle.\n",
        "\n",
        "    - Link:https://www.kaggle.com/datasets/kumaresanmanickavelu/lyft-udacity-challenge\n",
        "\n",
        "- Use the **DataA**  folder only.\n",
        "\n",
        "- You can run on Colab.\n",
        "    - upload data to drive\n",
        "    - OR fetch the data from Kaggle to Colab directly (easier)\n",
        "    \n",
        "- OR You can run on Kaggle directly (EASIER)"
      ]
    },
    {
      "cell_type": "code",
      "execution_count": null,
      "id": "4fae3596-4f78-4c86-a461-9e35c9ade0d2",
      "metadata": {
        "id": "4fae3596-4f78-4c86-a461-9e35c9ade0d2",
        "tags": []
      },
      "outputs": [],
      "source": [
        "import os\n",
        "import numpy as np\n",
        "import imageio\n",
        "\n",
        "import matplotlib.pyplot as plt\n",
        "%matplotlib inline\n",
        "\n",
        "path = #........\n",
        "\n",
        "image_path = os.path.join(path, 'CameraRGB/')\n",
        "mask_path = os.path.join(path, 'CameraSeg/')\n",
        "image_list = os.listdir(image_path)\n",
        "mask_list = os.listdir(mask_path)\n",
        "image_list = [image_path+i for i in image_list]\n",
        "mask_list = [mask_path+i for i in mask_list]"
      ]
    },
    {
      "cell_type": "code",
      "execution_count": null,
      "id": "5337c703-1be2-4b12-a27c-45dd00026961",
      "metadata": {
        "deletable": false,
        "editable": false,
        "id": "5337c703-1be2-4b12-a27c-45dd00026961",
        "nbgrader": {
          "cell_type": "code",
          "checksum": "73069ae70d7f62c79579ac7baef9a10d",
          "grade": false,
          "grade_id": "cell-af9c37d5a86adb55",
          "locked": true,
          "schema_version": 3,
          "solution": false,
          "task": false
        },
        "tags": []
      },
      "outputs": [],
      "source": [
        "len(image_list)"
      ]
    },
    {
      "cell_type": "markdown",
      "id": "2796e0b8-b5d9-4503-bdaf-509a57e6b474",
      "metadata": {
        "deletable": false,
        "editable": false,
        "id": "2796e0b8-b5d9-4503-bdaf-509a57e6b474",
        "nbgrader": {
          "cell_type": "markdown",
          "checksum": "7b669040b8eb3f949741493fe27ee91c",
          "grade": false,
          "grade_id": "cell-a5ffd63ad75aa45b",
          "locked": true,
          "schema_version": 3,
          "solution": false,
          "task": false
        },
        "tags": []
      },
      "source": [
        "#### Check out the some of the unmasked and masked images from the dataset:"
      ]
    },
    {
      "cell_type": "code",
      "execution_count": null,
      "id": "49b605d7-74d0-4be5-8c4d-f1ceee260aab",
      "metadata": {
        "deletable": false,
        "editable": false,
        "id": "49b605d7-74d0-4be5-8c4d-f1ceee260aab",
        "nbgrader": {
          "cell_type": "code",
          "checksum": "09863c877999c2e934cb8d8cdda16a18",
          "grade": false,
          "grade_id": "cell-322130c9275f786f",
          "locked": true,
          "schema_version": 3,
          "solution": false,
          "task": false
        },
        "tags": []
      },
      "outputs": [],
      "source": [
        "N = 3\n",
        "img = imageio.imread(image_list[N])\n",
        "mask = imageio.imread(mask_list[N])\n",
        "\n",
        "fig, arr = plt.subplots(1, 2, figsize=(14, 10))\n",
        "arr[0].imshow(img)\n",
        "arr[0].set_title('Image')\n",
        "arr[1].imshow(mask[:, :, 0])\n",
        "arr[1].set_title('Segmentation')"
      ]
    },
    {
      "cell_type": "markdown",
      "id": "2b68863a-979e-40f9-a475-0b8c381c6b5b",
      "metadata": {
        "deletable": false,
        "editable": false,
        "id": "2b68863a-979e-40f9-a475-0b8c381c6b5b",
        "nbgrader": {
          "cell_type": "markdown",
          "checksum": "58226abb45ff9cfa4efbd7bec2bb4dbb",
          "grade": false,
          "grade_id": "cell-0bb2e3e2670f4bc1",
          "locked": true,
          "schema_version": 3,
          "solution": false,
          "task": false
        },
        "tags": []
      },
      "source": [
        "#### 2.1 - Split Your Dataset into Unmasked and Masked Images"
      ]
    },
    {
      "cell_type": "code",
      "execution_count": null,
      "id": "ab61f6c1-76d1-45b1-91eb-0ed972eb9d21",
      "metadata": {
        "deletable": false,
        "editable": false,
        "id": "ab61f6c1-76d1-45b1-91eb-0ed972eb9d21",
        "nbgrader": {
          "cell_type": "code",
          "checksum": "4d88026c85ce54bd976601e7e6e83b33",
          "grade": false,
          "grade_id": "cell-6565858cbbf22aa6",
          "locked": true,
          "schema_version": 3,
          "solution": false,
          "task": false
        },
        "tags": []
      },
      "outputs": [],
      "source": [
        "image_list_ds = tf.data.Dataset.list_files(image_list, shuffle=False)\n",
        "mask_list_ds = tf.data.Dataset.list_files(mask_list, shuffle=False)\n",
        "\n",
        "for path in zip(image_list_ds.take(3), mask_list_ds.take(3)):\n",
        "    print(path)"
      ]
    },
    {
      "cell_type": "code",
      "execution_count": null,
      "id": "18f9deac-b5a7-452d-877e-17159160cc44",
      "metadata": {
        "deletable": false,
        "editable": false,
        "id": "18f9deac-b5a7-452d-877e-17159160cc44",
        "nbgrader": {
          "cell_type": "code",
          "checksum": "422540a4b046932b6e727f1dc282d8e9",
          "grade": false,
          "grade_id": "cell-6247ecd2e7c02ec7",
          "locked": true,
          "schema_version": 3,
          "solution": false,
          "task": false
        },
        "tags": []
      },
      "outputs": [],
      "source": [
        "image_filenames = tf.constant(image_list)\n",
        "masks_filenames = tf.constant(mask_list)\n",
        "\n",
        "dataset = tf.data.Dataset.from_tensor_slices((image_filenames, masks_filenames))\n",
        "\n",
        "for image, mask in dataset.take(1):\n",
        "    print(image)\n",
        "    print(mask)"
      ]
    },
    {
      "cell_type": "markdown",
      "id": "6d86fb40-7efb-4022-bdf8-b05b6d121b67",
      "metadata": {
        "deletable": false,
        "editable": false,
        "id": "6d86fb40-7efb-4022-bdf8-b05b6d121b67",
        "nbgrader": {
          "cell_type": "markdown",
          "checksum": "5d3fafa94c71fae82c0b490b26036b9c",
          "grade": false,
          "grade_id": "cell-750eeda15181d8dc",
          "locked": true,
          "schema_version": 3,
          "solution": false,
          "task": false
        },
        "tags": []
      },
      "source": [
        "#### 2.2 - Preprocess Your Data"
      ]
    },
    {
      "cell_type": "code",
      "execution_count": null,
      "id": "8ed7cf0a-5fd3-4579-9641-b4d6ee053084",
      "metadata": {
        "deletable": false,
        "editable": false,
        "id": "8ed7cf0a-5fd3-4579-9641-b4d6ee053084",
        "nbgrader": {
          "cell_type": "code",
          "checksum": "2f2d0849ebbd50aa283d80ee426ddefd",
          "grade": false,
          "grade_id": "cell-1ecc250aeec6649e",
          "locked": true,
          "schema_version": 3,
          "solution": false,
          "task": false
        },
        "tags": []
      },
      "outputs": [],
      "source": [
        "def process_path(image_path, mask_path):\n",
        "    img = tf.io.read_file(image_path)\n",
        "    img = tf.image.decode_png(img, channels=3)\n",
        "    img = tf.image.convert_image_dtype(img, tf.float32)\n",
        "\n",
        "    mask = tf.io.read_file(mask_path)\n",
        "    mask = tf.image.decode_png(mask, channels=3)\n",
        "    mask = tf.math.reduce_max(mask, axis=-1, keepdims=True)\n",
        "    return img, mask\n",
        "\n",
        "def preprocess(image, mask):\n",
        "    input_image = tf.image.resize(image, (96, 128), method='nearest')\n",
        "    input_mask = tf.image.resize(mask, (96, 128), method='nearest')\n",
        "\n",
        "    input_image = input_image / 255.\n",
        "\n",
        "    return input_image, input_mask\n",
        "\n",
        "image_ds = dataset.map(process_path)\n",
        "processed_image_ds = image_ds.map(preprocess)"
      ]
    },
    {
      "cell_type": "markdown",
      "id": "9be954c5-cf24-4928-9f77-448a13283e9c",
      "metadata": {
        "deletable": false,
        "editable": false,
        "id": "9be954c5-cf24-4928-9f77-448a13283e9c",
        "nbgrader": {
          "cell_type": "markdown",
          "checksum": "c9f533948d8a1f7e32f345978f196be3",
          "grade": false,
          "grade_id": "cell-e8dccf38ae33d97a",
          "locked": true,
          "schema_version": 3,
          "solution": false,
          "task": false
        },
        "tags": []
      },
      "source": [
        "### 3 - U-Net"
      ]
    },
    {
      "cell_type": "markdown",
      "id": "a583c0a9-bf78-4cc2-89b3-eeb09421c23a",
      "metadata": {
        "deletable": false,
        "editable": false,
        "id": "a583c0a9-bf78-4cc2-89b3-eeb09421c23a",
        "nbgrader": {
          "cell_type": "markdown",
          "checksum": "7d35629d557bc9e9325a2448c27b3053",
          "grade": false,
          "grade_id": "cell-4bf6f2ad06f7b104",
          "locked": true,
          "schema_version": 3,
          "solution": false,
          "task": false
        },
        "tags": []
      },
      "source": [
        "#### 3.1 - Model Details\n",
        "\n",
        "<a href=\"https://ibb.co/8bfBpz5\"><img src=\"https://i.ibb.co/QkTcR8N/unet.png\" alt=\"unet\" border=\"0\"></a><br /><a target='_blank' href='https://emoticoncentral.com/category/classical-building'></a><br />\n",
        "<caption><center> <u><b> Figure 2 </u></b>: U-Net Architecture<br> </center></caption>\n",
        "\n",
        "**Contracting path** (Encoder containing downsampling steps):\n",
        "\n",
        "Images are first fed through several convolutional layers which reduce height and width, while growing the number of channels.\n",
        "\n",
        "The contracting path follows a regular CNN architecture, with convolutional layers, their activations, and pooling layers to downsample the image and extract its features. In detail, it consists of the repeated application of two 3 x 3 unpadded convolutions, each followed by a rectified linear unit (ReLU) and a 2 x 2 max pooling operation with stride 2 for downsampling. At each downsampling step, the number of feature channels is doubled.\n",
        "\n",
        "**Crop function**: This step crops the image from the contracting path and concatenates it to the current image on the expanding path to create a skip connection.\n",
        "\n",
        "**Expanding path** (Decoder containing upsampling steps):\n",
        "\n",
        "The expanding path performs the opposite operation of the contracting path, growing the image back to its original size, while shrinking the channels gradually.\n",
        "\n",
        "In detail, each step in the expanding path upsamples the feature map, followed by a 2 x 2 convolution (the transposed convolution). This transposed convolution halves the number of feature channels, while growing the height and width of the image.\n",
        "\n",
        "Next is a concatenation with the correspondingly cropped feature map from the contracting path, and two 3 x 3 convolutions, each followed by a ReLU. You need to perform cropping to handle the loss of border pixels in every convolution.\n",
        "\n",
        "**Final Feature Mapping Block**: In the final layer, a 1x1 convolution is used to map each 64-component feature vector to the desired number of classes. The channel dimensions from the previous layer correspond to the number of filters used, so when you use 1x1 convolutions, you can transform that dimension by choosing an appropriate number of 1x1 filters. When this idea is applied to the last layer, you can reduce the channel dimensions to have one layer per class.\n",
        "\n",
        "The U-Net network has 23 convolutional layers in total."
      ]
    },
    {
      "cell_type": "markdown",
      "id": "c245b60d-fd9a-45f0-90c3-fca0e46ec41c",
      "metadata": {
        "deletable": false,
        "editable": false,
        "id": "c245b60d-fd9a-45f0-90c3-fca0e46ec41c",
        "nbgrader": {
          "cell_type": "markdown",
          "checksum": "368967208279ff8cda03fbde55e86359",
          "grade": false,
          "grade_id": "cell-3a335b406033c13d",
          "locked": true,
          "schema_version": 3,
          "solution": false,
          "task": false
        },
        "tags": []
      },
      "source": [
        "#### 3.2 - Encoder (Downsampling Block)\n",
        "\n",
        "\n",
        "<a href=\"https://ibb.co/BGGWBGc\"><img src=\"https://i.ibb.co/XDD0tDj/encoder.png\" alt=\"encoder\" border=\"0\"></a>\n",
        "<caption><center> <u><b>Figure 3</u></b>: The U-Net Encoder up close <br> </center></caption>\n",
        "\n",
        "The encoder is a stack of various conv_blocks:\n",
        "\n",
        "Each `conv_block()` is composed of 2 **Conv2D** layers  with ReLU activations. We will apply **Dropout**, and **MaxPooling2D** to some conv_blocks, as you will verify in the following sections, specifically to the last two blocks of the downsampling.\n",
        "\n",
        "The function will  return two tensors:\n",
        "- `next_layer`: That will go into the next block.\n",
        "- `skip_connection`: That will go into the corresponding decoding block.\n",
        "\n",
        "**Note**: If `max_pooling=True`, the `next_layer` will be the output of the MaxPooling2D layer, but the `skip_connection` will be the output of the previously applied layer(Conv2D or Dropout, depending on the case). Else, both results will be identical.  \n",
        "\n",
        "#### Exercise 1 - conv_block\n",
        "\n",
        "Implement `conv_block(...)`. Here are the instructions for each step in the `conv_block`, or contracting block:\n",
        "\n",
        "* Add 2 **Conv2D** layers with `n_filters` filters with `kernel_size` set to 3, `kernel_initializer` set to ['he_normal'](https://www.tensorflow.org/api_docs/python/tf/keras/initializers/HeNormal), `padding` set to 'same' and 'relu' activation.\n",
        "* if `dropout_prob` > 0, then add a Dropout layer with parameter `dropout_prob`\n",
        "* If `max_pooling` is set to True, then add a MaxPooling2D layer with 2x2 pool size"
      ]
    },
    {
      "cell_type": "code",
      "execution_count": null,
      "id": "82c42ec6-a452-437a-8344-dbdfdb7e58c9",
      "metadata": {
        "deletable": false,
        "id": "82c42ec6-a452-437a-8344-dbdfdb7e58c9",
        "nbgrader": {
          "cell_type": "code",
          "checksum": "a46514d39b37526b92b6180d419767f7",
          "grade": false,
          "grade_id": "cell-5bc67a8f4f19dea5",
          "locked": false,
          "schema_version": 3,
          "solution": true,
          "task": false
        },
        "tags": []
      },
      "outputs": [],
      "source": [
        "def conv_block(inputs=None, n_filters=32, dropout_prob=0, max_pooling=True):\n",
        "    \"\"\"\n",
        "    Convolutional downsampling block\n",
        "\n",
        "    Arguments:\n",
        "        inputs -- Input tensor\n",
        "        n_filters -- Number of filters for the convolutional layers\n",
        "        dropout_prob -- Dropout probability\n",
        "        max_pooling -- Use MaxPooling2D to reduce the spatial dimensions of the output volume\n",
        "    Returns:\n",
        "        next_layer, skip_connection --  Next layer and skip connection outputs\n",
        "    \"\"\"\n",
        "\n",
        "    # YOUR CODE STARTS HERE\n",
        "\n",
        "    # YOUR CODE ENDS HERE\n",
        "\n",
        "    # if dropout_prob > 0 add a dropout layer, with the variable dropout_prob as parameter\n",
        "    if dropout_prob > 0:\n",
        "         # YOUR CODE STARTS HERE\n",
        "\n",
        "         # YOUR CODE ENDS HERE\n",
        "\n",
        "\n",
        "    # if max_pooling is True add a MaxPooling2D with 2x2 pool_size\n",
        "    if max_pooling:\n",
        "        # YOUR CODE STARTS HERE\n",
        "\n",
        "        # YOUR CODE ENDS HERE\n",
        "\n",
        "    else:\n",
        "        next_layer = conv\n",
        "\n",
        "    skip_connection = conv\n",
        "\n",
        "    return next_layer, skip_connection"
      ]
    },
    {
      "cell_type": "code",
      "execution_count": null,
      "id": "1541ba94-086e-492c-9c6f-349664cf3a88",
      "metadata": {
        "deletable": false,
        "editable": false,
        "id": "1541ba94-086e-492c-9c6f-349664cf3a88",
        "nbgrader": {
          "cell_type": "code",
          "checksum": "4396e8677d9000520b2cd52c382fc93f",
          "grade": true,
          "grade_id": "cell-d1335b6da88c1f16",
          "locked": true,
          "points": 5,
          "schema_version": 3,
          "solution": false,
          "task": false
        },
        "tags": []
      },
      "outputs": [],
      "source": []
    },
    {
      "cell_type": "markdown",
      "id": "390488f8-bf53-49b2-b2ab-08df51a692c2",
      "metadata": {
        "deletable": false,
        "editable": false,
        "id": "390488f8-bf53-49b2-b2ab-08df51a692c2",
        "nbgrader": {
          "cell_type": "markdown",
          "checksum": "8fcbb87bdca47ecf7354b396a2da0613",
          "grade": false,
          "grade_id": "cell-174fd1e02f928aa4",
          "locked": true,
          "schema_version": 3,
          "solution": false,
          "task": false
        },
        "tags": []
      },
      "source": [
        "#### 3.3 - Decoder (Upsampling Block)\n",
        "\n",
        "The decoder, or upsampling block, upsamples the features back to the original image size. At each upsampling level, you'll take the output of the corresponding encoder block and concatenate it before feeding to the next decoder block.\n",
        "\n",
        "\n",
        "<a href=\"https://ibb.co/0rGzrk1\"><img src=\"https://i.ibb.co/VTqkTdb/decoder.png\" alt=\"decoder\" border=\"0\"></a>\n",
        "<caption><center> <u><b>Figure 4</u></b>: The U-Net Decoder up close <br> </center></caption>\n",
        "\n",
        "There are two new components in the decoder: `up` and `merge`. These are the transpose convolution and the skip connections. In addition, there are two more convolutional layers set to the same parameters as in the encoder.\n",
        "\n",
        "Here you'll encounter the `Conv2DTranspose` layer, which performs the inverse of the `Conv2D` layer. You can read more about it [here.](https://www.tensorflow.org/api_docs/python/tf/keras/layers/Conv2DTranspose)\n",
        "\n",
        "\n",
        "#### Exercise 2 - upsampling_block\n",
        "\n",
        "Implement `upsampling_block(...)`.\n",
        "\n",
        "For the function `upsampling_block`:\n",
        "* Takes the arguments `expansive_input` (which is the input tensor from the previous layer) and `contractive_input` (the input tensor from the previous skip layer)\n",
        "* The number of filters here is the same as in the downsampling block you completed previously\n",
        "* Your `Conv2DTranspose` layer will take `n_filters` with shape (3,3) and a stride of (2,2), with padding set to `same`. It's applied to `expansive_input`, or the input tensor from the previous layer.\n",
        "\n",
        "This block is also where you'll concatenate the outputs from the encoder blocks, creating skip connections.\n",
        "\n",
        "* Concatenate your Conv2DTranspose layer output to the contractive input, with an `axis` of 3. In general, you can concatenate the tensors in the order that you prefer. But for the grader, it is important that you use `[up, contractive_input]`\n",
        "\n",
        "For the final component, set the parameters for two Conv2D layers to the same values that you set for the two Conv2D layers in the encoder (ReLU activation, He normal initializer, `same` padding).\n"
      ]
    },
    {
      "cell_type": "code",
      "execution_count": null,
      "id": "09559013-ec3c-4f43-9204-91311266f719",
      "metadata": {
        "deletable": false,
        "id": "09559013-ec3c-4f43-9204-91311266f719",
        "nbgrader": {
          "cell_type": "code",
          "checksum": "c6c093419b962e8b1d2ec74bac2a605e",
          "grade": false,
          "grade_id": "cell-4a6bea191d41d977",
          "locked": false,
          "schema_version": 3,
          "solution": true,
          "task": false
        },
        "tags": []
      },
      "outputs": [],
      "source": [
        "def upsampling_block(expansive_input, contractive_input, n_filters=32):\n",
        "    \"\"\"\n",
        "    Convolutional upsampling block\n",
        "\n",
        "    Arguments:\n",
        "        expansive_input -- Input tensor from previous layer\n",
        "        contractive_input -- Input tensor from previous skip layer\n",
        "        n_filters -- Number of filters for the convolutional layers\n",
        "    Returns:\n",
        "        conv -- Tensor output\n",
        "    \"\"\"\n",
        "    # YOUR CODE STARTS HERE\n",
        "\n",
        "    # YOUR CODE ENDS HERE\n",
        "\n",
        "    return conv"
      ]
    },
    {
      "cell_type": "code",
      "execution_count": null,
      "id": "0e178f3e-875f-4fc8-837a-a1c4cbd0f915",
      "metadata": {
        "deletable": false,
        "editable": false,
        "id": "0e178f3e-875f-4fc8-837a-a1c4cbd0f915",
        "nbgrader": {
          "cell_type": "code",
          "checksum": "ed2073a269e15a298c910a770037250b",
          "grade": true,
          "grade_id": "cell-44e913f0db3ce807",
          "locked": true,
          "points": 5,
          "schema_version": 3,
          "solution": false,
          "task": false
        },
        "tags": []
      },
      "outputs": [],
      "source": []
    },
    {
      "cell_type": "markdown",
      "id": "2718a131-1d5f-4589-9bf4-5942416264bf",
      "metadata": {
        "deletable": false,
        "editable": false,
        "id": "2718a131-1d5f-4589-9bf4-5942416264bf",
        "nbgrader": {
          "cell_type": "markdown",
          "checksum": "9f0daa56c967f0456b1586f055a0f806",
          "grade": false,
          "grade_id": "cell-6bf75a0c95411b68",
          "locked": true,
          "schema_version": 3,
          "solution": false,
          "task": false
        },
        "tags": []
      },
      "source": [
        "#### 3.4 - Build the Model\n",
        "\n",
        "This is where you'll put it all together, by chaining the encoder, bottleneck, and decoder! You'll need to specify the number of output channels, which for this particular set would be 23. That's because there are **23 possible labels for each pixel in this self-driving car dataset.**\n",
        "\n",
        "#### Exercise 3 - unet_model\n",
        "\n",
        "For the function `unet_model`, specify the input shape, number of filters, and number of classes (13 in this case).\n",
        "\n",
        "For the first half of the model:\n",
        "\n",
        "* Begin with a conv block that takes the inputs of the model and the number of filters\n",
        "* Then, chain the first output element of each block to the input of the next convolutional block\n",
        "* Next, double the number of filters at each step\n",
        "* Beginning with `conv_block4`, add `dropout` of 0.3\n",
        "* For the final conv_block, set `dropout` to 0.3 again, and turn off max pooling. (Here `n_filters=n_filters* 16`)\n",
        "\n",
        "For the second half:\n",
        "* From here, at each step, use half the number of filters of the previous block\n",
        "* Use cblock5 as expansive_input and cblock4 as contractive_input, with `n_filters` * 8. This is your bottleneck layer.\n",
        "* Chain the output of the previous block as expansive_input and the corresponding contractive block output.\n",
        "* Note that you must use the second element of the contractive block before the max pooling layer.\n",
        "* `conv9` is a Conv2D layer with ReLU activation, He normal initializer, `same` padding\n",
        "* Finally, `conv10` is a Conv2D that takes the number of classes as the filter, a kernel size of 1, and \"same\" padding. The output of `conv10` is the output of your model."
      ]
    },
    {
      "cell_type": "code",
      "execution_count": null,
      "id": "d8b5ba59-a74f-4dba-bd60-f59bf2f8cfc8",
      "metadata": {
        "deletable": false,
        "id": "d8b5ba59-a74f-4dba-bd60-f59bf2f8cfc8",
        "nbgrader": {
          "cell_type": "code",
          "checksum": "1277cafba8bfc86ebde90169066f34f0",
          "grade": false,
          "grade_id": "cell-e43cf8104499fbd9",
          "locked": false,
          "schema_version": 3,
          "solution": true,
          "task": false
        },
        "tags": []
      },
      "outputs": [],
      "source": [
        "def unet_model(input_size=(96, 128, 3), n_filters=32, n_classes=13):\n",
        "    \"\"\"\n",
        "    Unet model\n",
        "\n",
        "    Arguments:\n",
        "        input_size -- Input shape\n",
        "        n_filters -- Number of filters for the convolutional layers\n",
        "        n_classes -- Number of output classes\n",
        "    Returns:\n",
        "        model -- tf.keras.Model\n",
        "    \"\"\"\n",
        "    inputs = Input(input_size)\n",
        "    # Contracting Path (encoding)\n",
        "    # Add a conv_block with the inputs of the unet_ model and n_filters\n",
        "    # YOUR CODE STARTS HERE\n",
        "\n",
        "    # YOUR CODE ENDS HERE\n",
        "\n",
        "    # Expanding Path (decoding)\n",
        "    # Add the first upsampling_block.\n",
        "    # From here,at each step, use half the number of filters of the previous block\n",
        "    # Use the cblock5[0] as expansive_input and cblock4[1] as contractive_input and n_filters * 8\n",
        "    # YOUR CODE STARTS HERE\n",
        "\n",
        "    # YOUR CODE ENDS HERE\n",
        "\n",
        "    conv9 = Conv2D(n_filters,\n",
        "                 3,\n",
        "                 activation='relu',\n",
        "                 padding='same',\n",
        "                 kernel_initializer='he_normal')(ublock9)\n",
        "\n",
        "    # Add a Conv2D layer with n_classes filter, kernel size of 1 and a 'same' padding\n",
        "    # YOUR CODE STARTS HERE\n",
        "\n",
        "    # YOUR CODE ENDS HERE\n",
        "\n",
        "    model = tf.keras.Model(inputs=inputs, outputs=conv10)\n",
        "\n",
        "    return model"
      ]
    },
    {
      "cell_type": "markdown",
      "id": "8abc0a8a-4c49-4e68-9f3b-14674b8d9326",
      "metadata": {
        "deletable": false,
        "editable": false,
        "id": "8abc0a8a-4c49-4e68-9f3b-14674b8d9326",
        "nbgrader": {
          "cell_type": "markdown",
          "checksum": "22ea0ffbd1013e05ab85cb3cd412436e",
          "grade": false,
          "grade_id": "cell-69d43cc5f1f8dc0c",
          "locked": true,
          "schema_version": 3,
          "solution": false,
          "task": false
        },
        "tags": []
      },
      "source": [
        "#### 3.5 - Set Model Dimensions"
      ]
    },
    {
      "cell_type": "code",
      "execution_count": null,
      "id": "844007c4-791b-43c3-98e7-c4f62b44f6c5",
      "metadata": {
        "deletable": false,
        "editable": false,
        "id": "844007c4-791b-43c3-98e7-c4f62b44f6c5",
        "nbgrader": {
          "cell_type": "code",
          "checksum": "d578fcfd79454d943c01505049d8ce9b",
          "grade": false,
          "grade_id": "cell-a50392298a03ee98",
          "locked": true,
          "schema_version": 3,
          "solution": false,
          "task": false
        },
        "tags": []
      },
      "outputs": [],
      "source": [
        "img_height = 96\n",
        "img_width = 128\n",
        "num_channels = 3\n",
        "\n",
        "unet = unet_model((img_height, img_width, num_channels))"
      ]
    },
    {
      "cell_type": "markdown",
      "id": "0495ee1c-3419-4509-92a3-d9abd426d840",
      "metadata": {
        "deletable": false,
        "editable": false,
        "id": "0495ee1c-3419-4509-92a3-d9abd426d840",
        "nbgrader": {
          "cell_type": "markdown",
          "checksum": "5bab84a71cb9758e921597e5113491bb",
          "grade": false,
          "grade_id": "cell-bfcbfc5a8a6e924a",
          "locked": true,
          "schema_version": 3,
          "solution": false,
          "task": false
        },
        "tags": []
      },
      "source": [
        "#### Check out the model summary below!"
      ]
    },
    {
      "cell_type": "code",
      "execution_count": null,
      "id": "d9eeb2fb-693b-43ea-83a0-ebff2a5e237d",
      "metadata": {
        "deletable": false,
        "editable": false,
        "id": "d9eeb2fb-693b-43ea-83a0-ebff2a5e237d",
        "nbgrader": {
          "cell_type": "code",
          "checksum": "d41a622e00acb268a155988514a32801",
          "grade": false,
          "grade_id": "cell-06fa13172a78ffcb",
          "locked": true,
          "schema_version": 3,
          "solution": false,
          "task": false
        },
        "tags": []
      },
      "outputs": [],
      "source": [
        "unet.summary()"
      ]
    },
    {
      "cell_type": "code",
      "execution_count": null,
      "id": "91472796-9e62-46f4-9159-516c4818bceb",
      "metadata": {
        "deletable": false,
        "editable": false,
        "id": "91472796-9e62-46f4-9159-516c4818bceb",
        "nbgrader": {
          "cell_type": "code",
          "checksum": "b85d7f7109d568d08c179cfcf448e591",
          "grade": true,
          "grade_id": "cell-dd13f183553383ab",
          "locked": true,
          "points": 5,
          "schema_version": 3,
          "solution": false,
          "task": false
        },
        "tags": []
      },
      "outputs": [],
      "source": []
    },
    {
      "cell_type": "markdown",
      "id": "f5d73d4a-7e9c-4bac-a220-fea652b66ae7",
      "metadata": {
        "deletable": false,
        "editable": false,
        "id": "f5d73d4a-7e9c-4bac-a220-fea652b66ae7",
        "nbgrader": {
          "cell_type": "markdown",
          "checksum": "e9b71673ea4566891c5bcef89fda62c3",
          "grade": false,
          "grade_id": "cell-ec967b570faf537c",
          "locked": true,
          "schema_version": 3,
          "solution": false,
          "task": false
        },
        "tags": []
      },
      "source": [
        "#### 3.6 - Loss Function\n",
        "\n",
        "In semantic segmentation, you need as many masks as you have object classes. In the dataset you're using, each pixel in every mask has been assigned a single integer probability that it belongs to a certain class, from 0 to num_classes-1. The correct class is the layer with the higher probability.\n",
        "\n",
        "This is different from categorical crossentropy, where the labels should be one-hot encoded (just 0s and 1s). Here, you'll use sparse categorical crossentropy as your loss function, to perform pixel-wise multiclass prediction. Sparse categorical crossentropy is more efficient than other loss functions when you're dealing with lots of classes."
      ]
    },
    {
      "cell_type": "code",
      "execution_count": null,
      "id": "cfdb894b-158f-47d4-98d6-e558c38dd10b",
      "metadata": {
        "deletable": false,
        "editable": false,
        "id": "cfdb894b-158f-47d4-98d6-e558c38dd10b",
        "nbgrader": {
          "cell_type": "code",
          "checksum": "f13cec7fbf29241e62f8391eb1e1bea8",
          "grade": false,
          "grade_id": "cell-934c7b58d04c5628",
          "locked": true,
          "schema_version": 3,
          "solution": false,
          "task": false
        },
        "tags": []
      },
      "outputs": [],
      "source": [
        "unet.compile(optimizer='adam',\n",
        "              loss=tf.keras.losses.SparseCategoricalCrossentropy(from_logits=True),\n",
        "              metrics=['accuracy'])"
      ]
    },
    {
      "cell_type": "markdown",
      "id": "ed00a980-7f3d-47b2-9714-297b20b51ddd",
      "metadata": {
        "deletable": false,
        "editable": false,
        "id": "ed00a980-7f3d-47b2-9714-297b20b51ddd",
        "nbgrader": {
          "cell_type": "markdown",
          "checksum": "5540a851074dd921e1a93877c9f84d9a",
          "grade": false,
          "grade_id": "cell-f28779d9de62efe8",
          "locked": true,
          "schema_version": 3,
          "solution": false,
          "task": false
        },
        "tags": []
      },
      "source": [
        "#### 3.7 - Dataset Handling\n",
        "\n",
        "Below, define a function that allows you to display both an input image, and its ground truth: the true mask. The true mask is what your trained model output is aiming to get as close to as possible."
      ]
    },
    {
      "cell_type": "code",
      "execution_count": null,
      "id": "00210428-d1e3-4aa4-a3ab-a7d23be2651e",
      "metadata": {
        "deletable": false,
        "editable": false,
        "id": "00210428-d1e3-4aa4-a3ab-a7d23be2651e",
        "nbgrader": {
          "cell_type": "code",
          "checksum": "8d290a7c8b5e05ac8d2bb48c24db21e8",
          "grade": false,
          "grade_id": "cell-cc2483a3c0f5831c",
          "locked": true,
          "schema_version": 3,
          "solution": false,
          "task": false
        },
        "tags": []
      },
      "outputs": [],
      "source": [
        "def display(display_list):\n",
        "    plt.figure(figsize=(15, 15))\n",
        "\n",
        "    title = ['Input Image', 'True Mask', 'Predicted Mask']\n",
        "\n",
        "    for i in range(len(display_list)):\n",
        "        plt.subplot(1, len(display_list), i+1)\n",
        "        plt.title(title[i])\n",
        "        plt.imshow(tf.keras.preprocessing.image.array_to_img(display_list[i]))\n",
        "        plt.axis('off')\n",
        "    plt.show()"
      ]
    },
    {
      "cell_type": "code",
      "execution_count": null,
      "id": "a213724b-e4b8-4ba8-b16c-4fa2f23911c7",
      "metadata": {
        "deletable": false,
        "editable": false,
        "id": "a213724b-e4b8-4ba8-b16c-4fa2f23911c7",
        "nbgrader": {
          "cell_type": "code",
          "checksum": "5f71ef8341ed17a56c1cd6e3227c5ab8",
          "grade": false,
          "grade_id": "cell-2b3ffca2e59011ce",
          "locked": true,
          "schema_version": 3,
          "solution": false,
          "task": false
        },
        "tags": []
      },
      "outputs": [],
      "source": [
        "for image, mask in image_ds.take(1):\n",
        "    sample_image, sample_mask = image, mask\n",
        "    print(mask.shape)\n",
        "display([sample_image, sample_mask])"
      ]
    },
    {
      "cell_type": "code",
      "execution_count": null,
      "id": "ba4338c4-eb53-413c-932d-7b567872ab0d",
      "metadata": {
        "deletable": false,
        "editable": false,
        "id": "ba4338c4-eb53-413c-932d-7b567872ab0d",
        "nbgrader": {
          "cell_type": "code",
          "checksum": "b854d4fb73c9db51541cc072156ca3b2",
          "grade": false,
          "grade_id": "cell-c0f9dd8cc3e7573a",
          "locked": true,
          "schema_version": 3,
          "solution": false,
          "task": false
        },
        "tags": []
      },
      "outputs": [],
      "source": [
        "for image, mask in processed_image_ds.take(1):\n",
        "    sample_image, sample_mask = image, mask\n",
        "    print(mask.shape)\n",
        "display([sample_image, sample_mask])"
      ]
    },
    {
      "cell_type": "markdown",
      "id": "6dbb8991-f429-4e7f-a794-123e27d28b4b",
      "metadata": {
        "deletable": false,
        "editable": false,
        "id": "6dbb8991-f429-4e7f-a794-123e27d28b4b",
        "nbgrader": {
          "cell_type": "markdown",
          "checksum": "56855135758a298878c51c84cfee5ee8",
          "grade": false,
          "grade_id": "cell-97dc68aba6aacc37",
          "locked": true,
          "schema_version": 3,
          "solution": false,
          "task": false
        },
        "tags": []
      },
      "source": [
        "### 4 - Train the Model"
      ]
    },
    {
      "cell_type": "code",
      "execution_count": null,
      "id": "a5c78e3c-935b-4c92-92b7-9683aae8bff4",
      "metadata": {
        "deletable": false,
        "editable": false,
        "id": "a5c78e3c-935b-4c92-92b7-9683aae8bff4",
        "nbgrader": {
          "cell_type": "code",
          "checksum": "a8bbc32f536f6d465acc8007d0b2e093",
          "grade": false,
          "grade_id": "cell-35c1a97958369905",
          "locked": true,
          "schema_version": 3,
          "solution": false,
          "task": false
        },
        "tags": []
      },
      "outputs": [],
      "source": [
        "EPOCHS = 40\n",
        "BUFFER_SIZE = 500\n",
        "BATCH_SIZE = 32\n",
        "processed_image_ds.batch(BATCH_SIZE)\n",
        "train_dataset = processed_image_ds.cache().shuffle(BUFFER_SIZE).batch(BATCH_SIZE)\n",
        "print(processed_image_ds.element_spec)\n",
        "model_history = unet.fit(train_dataset, epochs=EPOCHS)"
      ]
    },
    {
      "cell_type": "markdown",
      "id": "2329a6c6-66a3-4d78-b20f-e86e70ab52b6",
      "metadata": {
        "deletable": false,
        "editable": false,
        "id": "2329a6c6-66a3-4d78-b20f-e86e70ab52b6",
        "nbgrader": {
          "cell_type": "markdown",
          "checksum": "9373f1f7209f90ab5cdebc2b1714c828",
          "grade": false,
          "grade_id": "cell-1881e7cf4b29cc4d",
          "locked": true,
          "schema_version": 3,
          "solution": false,
          "task": false
        },
        "tags": []
      },
      "source": [
        "#### 4.1 - Create Predicted Masks\n",
        "\n",
        "Now, define a function that uses `tf.argmax` in the axis of the number of classes to return the index with the largest value and merge the prediction into a single image:"
      ]
    },
    {
      "cell_type": "code",
      "execution_count": null,
      "id": "7c82e116-bd36-4302-b20a-b4a0f6e71a07",
      "metadata": {
        "deletable": false,
        "editable": false,
        "id": "7c82e116-bd36-4302-b20a-b4a0f6e71a07",
        "nbgrader": {
          "cell_type": "code",
          "checksum": "0b36158610f4a5d03d2b8b061bc30dcf",
          "grade": false,
          "grade_id": "cell-0b5af41c6e720874",
          "locked": true,
          "schema_version": 3,
          "solution": false,
          "task": false
        },
        "tags": []
      },
      "outputs": [],
      "source": [
        "def create_mask(pred_mask):\n",
        "    pred_mask = tf.argmax(pred_mask, axis=-1)\n",
        "    pred_mask = pred_mask[..., tf.newaxis]\n",
        "    return pred_mask[0]"
      ]
    },
    {
      "cell_type": "markdown",
      "id": "5d3d837d-753c-4e7d-bce1-9351f1a85dc6",
      "metadata": {
        "deletable": false,
        "editable": false,
        "id": "5d3d837d-753c-4e7d-bce1-9351f1a85dc6",
        "nbgrader": {
          "cell_type": "markdown",
          "checksum": "725c7bc4a2b6ebd95f79548e0600669b",
          "grade": false,
          "grade_id": "cell-d7dff94b87cd7790",
          "locked": true,
          "schema_version": 3,
          "solution": false,
          "task": false
        },
        "tags": []
      },
      "source": [
        "#### 4.2 - Plot Model Accuracy\n",
        "\n",
        "Let's see how your model did!"
      ]
    },
    {
      "cell_type": "code",
      "execution_count": null,
      "id": "a81d99f0-ea54-4116-a122-0ab305f67a10",
      "metadata": {
        "deletable": false,
        "editable": false,
        "id": "a81d99f0-ea54-4116-a122-0ab305f67a10",
        "nbgrader": {
          "cell_type": "code",
          "checksum": "8904d60554de8027f73dc8e11e807d1a",
          "grade": false,
          "grade_id": "cell-128a745c9531a411",
          "locked": true,
          "schema_version": 3,
          "solution": false,
          "task": false
        },
        "tags": []
      },
      "outputs": [],
      "source": [
        "plt.plot(model_history.history[\"accuracy\"])"
      ]
    },
    {
      "cell_type": "markdown",
      "id": "fede2eef-ba86-4896-9b59-42e4944ff19a",
      "metadata": {
        "deletable": false,
        "editable": false,
        "id": "fede2eef-ba86-4896-9b59-42e4944ff19a",
        "nbgrader": {
          "cell_type": "markdown",
          "checksum": "ade697d128ecaab9bf5ba9cced8011d5",
          "grade": false,
          "grade_id": "cell-d311147bbee3380a",
          "locked": true,
          "schema_version": 3,
          "solution": false,
          "task": false
        },
        "tags": []
      },
      "source": [
        "#### 4.3 - Show Predictions\n",
        "\n",
        "Next, check your predicted masks against the true mask and the original input image:"
      ]
    },
    {
      "cell_type": "code",
      "execution_count": null,
      "id": "cd24148a-b5eb-41dd-a203-09edc69a7890",
      "metadata": {
        "deletable": false,
        "editable": false,
        "id": "cd24148a-b5eb-41dd-a203-09edc69a7890",
        "nbgrader": {
          "cell_type": "code",
          "checksum": "c6c94ea6108b9a1d25966ad3a41bc370",
          "grade": false,
          "grade_id": "cell-7db237754690707c",
          "locked": true,
          "schema_version": 3,
          "solution": false,
          "task": false
        },
        "tags": []
      },
      "outputs": [],
      "source": [
        "def show_predictions(dataset=None, num=1):\n",
        "    \"\"\"\n",
        "    Displays the first image of each of the num batches\n",
        "    \"\"\"\n",
        "    if dataset:\n",
        "        for image, mask in dataset.take(num):\n",
        "            pred_mask = unet.predict(image)\n",
        "            display([image[0], mask[0], create_mask(pred_mask)])\n",
        "    else:\n",
        "        display([sample_image, sample_mask,\n",
        "             create_mask(unet.predict(sample_image[tf.newaxis, ...]))])"
      ]
    },
    {
      "cell_type": "code",
      "execution_count": null,
      "id": "8127363f-c544-407b-b601-be4a80129291",
      "metadata": {
        "deletable": false,
        "editable": false,
        "id": "8127363f-c544-407b-b601-be4a80129291",
        "nbgrader": {
          "cell_type": "code",
          "checksum": "4016d622ad6eb6b4659d69c16e191b85",
          "grade": false,
          "grade_id": "cell-161f1b83c8e184e1",
          "locked": true,
          "schema_version": 3,
          "solution": false,
          "task": false
        },
        "tags": []
      },
      "outputs": [],
      "source": [
        "show_predictions(train_dataset, 6)"
      ]
    }
  ],
  "metadata": {
    "colab": {
      "provenance": []
    },
    "kernelspec": {
      "display_name": "Python (tf)",
      "language": "python",
      "name": "tf"
    },
    "language_info": {
      "codemirror_mode": {
        "name": "ipython",
        "version": 3
      },
      "file_extension": ".py",
      "mimetype": "text/x-python",
      "name": "python",
      "nbconvert_exporter": "python",
      "pygments_lexer": "ipython3",
      "version": "3.8.13"
    }
  },
  "nbformat": 4,
  "nbformat_minor": 5
}